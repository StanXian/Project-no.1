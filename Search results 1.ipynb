{
 "cells": [
  {
   "cell_type": "code",
   "execution_count": 34,
   "metadata": {},
   "outputs": [],
   "source": [
    "import json\n",
    "import requests\n",
    "import pandas as pd\n",
    "from apikey import api_key"
   ]
  },
  {
   "cell_type": "code",
   "execution_count": 35,
   "metadata": {},
   "outputs": [],
   "source": [
    "cx = \"016959488968617841903:flfbk-adnwc\""
   ]
  },
  {
   "cell_type": "code",
   "execution_count": 36,
   "metadata": {},
   "outputs": [],
   "source": [
    "results_monthly = []"
   ]
  },
  {
   "cell_type": "code",
   "execution_count": 47,
   "metadata": {},
   "outputs": [
    {
     "name": "stdout",
     "output_type": "stream",
     "text": [
      "Hi?\n"
     ]
    }
   ],
   "source": [
    "print(\"Hi?\")"
   ]
  },
  {
   "cell_type": "code",
   "execution_count": 52,
   "metadata": {},
   "outputs": [
    {
     "name": "stdout",
     "output_type": "stream",
     "text": [
      "<Response [403]>\n",
      "{'error': {'errors': [{'domain': 'usageLimits', 'reason': 'dailyLimitExceeded', 'message': 'This API requires billing to be enabled on the project. Visit https://console.developers.google.com/billing?project=911746089888 to enable billing.', 'extendedHelp': 'https://console.developers.google.com/billing?project=911746089888'}], 'code': 403, 'message': 'This API requires billing to be enabled on the project. Visit https://console.developers.google.com/billing?project=911746089888 to enable billing.'}}\n",
      "<Response [403]>\n",
      "{'error': {'errors': [{'domain': 'usageLimits', 'reason': 'dailyLimitExceeded', 'message': 'This API requires billing to be enabled on the project. Visit https://console.developers.google.com/billing?project=911746089888 to enable billing.', 'extendedHelp': 'https://console.developers.google.com/billing?project=911746089888'}], 'code': 403, 'message': 'This API requires billing to be enabled on the project. Visit https://console.developers.google.com/billing?project=911746089888 to enable billing.'}}\n",
      "<Response [403]>\n",
      "{'error': {'errors': [{'domain': 'usageLimits', 'reason': 'dailyLimitExceeded', 'message': 'This API requires billing to be enabled on the project. Visit https://console.developers.google.com/billing?project=911746089888 to enable billing.', 'extendedHelp': 'https://console.developers.google.com/billing?project=911746089888'}], 'code': 403, 'message': 'This API requires billing to be enabled on the project. Visit https://console.developers.google.com/billing?project=911746089888 to enable billing.'}}\n",
      "<Response [403]>\n",
      "{'error': {'errors': [{'domain': 'usageLimits', 'reason': 'dailyLimitExceeded', 'message': 'This API requires billing to be enabled on the project. Visit https://console.developers.google.com/billing?project=911746089888 to enable billing.', 'extendedHelp': 'https://console.developers.google.com/billing?project=911746089888'}], 'code': 403, 'message': 'This API requires billing to be enabled on the project. Visit https://console.developers.google.com/billing?project=911746089888 to enable billing.'}}\n",
      "<Response [403]>\n",
      "{'error': {'errors': [{'domain': 'usageLimits', 'reason': 'dailyLimitExceeded', 'message': 'This API requires billing to be enabled on the project. Visit https://console.developers.google.com/billing?project=911746089888 to enable billing.', 'extendedHelp': 'https://console.developers.google.com/billing?project=911746089888'}], 'code': 403, 'message': 'This API requires billing to be enabled on the project. Visit https://console.developers.google.com/billing?project=911746089888 to enable billing.'}}\n",
      "<Response [403]>\n",
      "{'error': {'errors': [{'domain': 'usageLimits', 'reason': 'dailyLimitExceeded', 'message': 'This API requires billing to be enabled on the project. Visit https://console.developers.google.com/billing?project=911746089888 to enable billing.', 'extendedHelp': 'https://console.developers.google.com/billing?project=911746089888'}], 'code': 403, 'message': 'This API requires billing to be enabled on the project. Visit https://console.developers.google.com/billing?project=911746089888 to enable billing.'}}\n",
      "<Response [403]>\n",
      "{'error': {'errors': [{'domain': 'usageLimits', 'reason': 'dailyLimitExceeded', 'message': 'This API requires billing to be enabled on the project. Visit https://console.developers.google.com/billing?project=911746089888 to enable billing.', 'extendedHelp': 'https://console.developers.google.com/billing?project=911746089888'}], 'code': 403, 'message': 'This API requires billing to be enabled on the project. Visit https://console.developers.google.com/billing?project=911746089888 to enable billing.'}}\n",
      "<Response [403]>\n",
      "{'error': {'errors': [{'domain': 'usageLimits', 'reason': 'dailyLimitExceeded', 'message': 'This API requires billing to be enabled on the project. Visit https://console.developers.google.com/billing?project=911746089888 to enable billing.', 'extendedHelp': 'https://console.developers.google.com/billing?project=911746089888'}], 'code': 403, 'message': 'This API requires billing to be enabled on the project. Visit https://console.developers.google.com/billing?project=911746089888 to enable billing.'}}\n",
      "<Response [403]>\n",
      "{'error': {'errors': [{'domain': 'usageLimits', 'reason': 'dailyLimitExceeded', 'message': 'This API requires billing to be enabled on the project. Visit https://console.developers.google.com/billing?project=911746089888 to enable billing.', 'extendedHelp': 'https://console.developers.google.com/billing?project=911746089888'}], 'code': 403, 'message': 'This API requires billing to be enabled on the project. Visit https://console.developers.google.com/billing?project=911746089888 to enable billing.'}}\n",
      "<Response [403]>\n",
      "{'error': {'errors': [{'domain': 'usageLimits', 'reason': 'dailyLimitExceeded', 'message': 'This API requires billing to be enabled on the project. Visit https://console.developers.google.com/billing?project=911746089888 to enable billing.', 'extendedHelp': 'https://console.developers.google.com/billing?project=911746089888'}], 'code': 403, 'message': 'This API requires billing to be enabled on the project. Visit https://console.developers.google.com/billing?project=911746089888 to enable billing.'}}\n",
      "<Response [403]>\n",
      "{'error': {'errors': [{'domain': 'usageLimits', 'reason': 'dailyLimitExceeded', 'message': 'This API requires billing to be enabled on the project. Visit https://console.developers.google.com/billing?project=911746089888 to enable billing.', 'extendedHelp': 'https://console.developers.google.com/billing?project=911746089888'}], 'code': 403, 'message': 'This API requires billing to be enabled on the project. Visit https://console.developers.google.com/billing?project=911746089888 to enable billing.'}}\n",
      "<Response [403]>\n",
      "{'error': {'errors': [{'domain': 'usageLimits', 'reason': 'dailyLimitExceeded', 'message': 'This API requires billing to be enabled on the project. Visit https://console.developers.google.com/billing?project=911746089888 to enable billing.', 'extendedHelp': 'https://console.developers.google.com/billing?project=911746089888'}], 'code': 403, 'message': 'This API requires billing to be enabled on the project. Visit https://console.developers.google.com/billing?project=911746089888 to enable billing.'}}\n"
     ]
    }
   ],
   "source": [
    "for i in range(12, 0, -1):\n",
    "#    print(i)  \n",
    "    url = \"https://www.googleapis.com/customsearch/v1\"\n",
    "    parameters = {\"q\": \"kermit meme\",\n",
    "              \"cx\": cx,\n",
    "              \"key\": api_key,\n",
    "              \"dateRestrict=m\": i ,\n",
    "              }\n",
    "\n",
    "\n",
    "    page = requests.get(url, params=parameters)\n",
    "    print(page)\n",
    "    print(page.json())\n",
    "#     page = requests.request(\"GET\", url, params=parameters)\n",
    "   \n",
    "#     results = json.loads(page.text)\n",
    "   \n",
    "#     tr = results[\"searchInformation\"]['formattedTotalResults'].value\n",
    "#     print(tr)\n",
    "#     results_monthly.append(tr)\n",
    "    \n",
    "\n",
    "# results_monthly\n"
   ]
  },
  {
   "cell_type": "code",
   "execution_count": 12,
   "metadata": {},
   "outputs": [],
   "source": [
    "url = \"https://www.googleapis.com/customsearch/v1\"\n",
    "parameters = {\"q\": \"kermit meme\",\n",
    "              \"cx\": cx,\n",
    "              \"key\": api_key,\n",
    "              \"dateRestrict\":\"m24 \" ,\n",
    "              }"
   ]
  },
  {
   "cell_type": "code",
   "execution_count": 13,
   "metadata": {},
   "outputs": [],
   "source": [
    "page = requests.request(\"GET\", url, params=parameters)"
   ]
  },
  {
   "cell_type": "code",
   "execution_count": 14,
   "metadata": {},
   "outputs": [],
   "source": [
    "results = json.loads(page.text)"
   ]
  },
  {
   "cell_type": "code",
   "execution_count": 15,
   "metadata": {},
   "outputs": [
    {
     "data": {
      "text/plain": [
       "{'searchTime': 0.174892,\n",
       " 'formattedSearchTime': '0.17',\n",
       " 'totalResults': '3670000',\n",
       " 'formattedTotalResults': '3,670,000'}"
      ]
     },
     "execution_count": 15,
     "metadata": {},
     "output_type": "execute_result"
    }
   ],
   "source": [
    "results[\"searchInformation\"]"
   ]
  },
  {
   "cell_type": "code",
   "execution_count": 16,
   "metadata": {},
   "outputs": [
    {
     "data": {
      "text/plain": [
       "'3,670,000'"
      ]
     },
     "execution_count": 16,
     "metadata": {},
     "output_type": "execute_result"
    }
   ],
   "source": [
    "tr = results[\"searchInformation\"]['formattedTotalResults']\n",
    "tr"
   ]
  },
  {
   "cell_type": "code",
   "execution_count": null,
   "metadata": {},
   "outputs": [],
   "source": []
  }
 ],
 "metadata": {
  "kernelspec": {
   "display_name": "Python 3",
   "language": "python",
   "name": "python3"
  },
  "language_info": {
   "codemirror_mode": {
    "name": "ipython",
    "version": 3
   },
   "file_extension": ".py",
   "mimetype": "text/x-python",
   "name": "python",
   "nbconvert_exporter": "python",
   "pygments_lexer": "ipython3",
   "version": "3.7.1"
  }
 },
 "nbformat": 4,
 "nbformat_minor": 2
}
