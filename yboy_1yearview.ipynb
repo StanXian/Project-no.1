{
 "cells": [
  {
   "cell_type": "code",
   "execution_count": 3,
   "metadata": {},
   "outputs": [],
   "source": [
    "import json\n",
    "import requests\n",
    "import pandas as pd\n",
    "from k import api_key\n",
    "import matplotlib.pyplot as plt\n",
    "import csv\n",
    "import numpy as np"
   ]
  },
  {
   "cell_type": "code",
   "execution_count": 7,
   "metadata": {},
   "outputs": [
    {
     "name": "stdout",
     "output_type": "stream",
     "text": [
      "1\n",
      "2\n",
      "3\n",
      "4\n",
      "5\n",
      "6\n",
      "7\n",
      "8\n",
      "9\n",
      "10\n",
      "11\n",
      "12\n"
     ]
    }
   ],
   "source": [
    "cx = \"0004244157511163772131:swmjc3vgy_a\"\n",
    "url = \"https://www.googleapis.com/customsearch/v1?\"\n",
    "\n",
    "total_results = []\n",
    "months = []\n",
    "diff = []\n",
    "\n",
    "\n",
    "for x in range(1, 13, 1):\n",
    "    print(x)\n",
    "    timeperiod1 = 'm' + str(x)\n",
    "    parameters1 = {\"q\": \"yodelling walmart boy\",\n",
    "              \"cx\": cx,\n",
    "              \"key\": api_key,\n",
    "              \"dateRestrict\": timeperiod1\n",
    "              }\n",
    "    timeperiod2 = 'm' + str(x+1)\n",
    "    parameters2 = {\"q\": \"yodelling walmart boy\",\n",
    "              \"cx\": cx,\n",
    "              \"key\": api_key,\n",
    "              \"dateRestrict\": timeperiod2\n",
    "              }\n",
    "    \n",
    "    page1 = requests.request(\"GET\", url, params=parameters1)\n",
    "    page2 = requests.request(\"GET\", url, params=parameters2)\n",
    "\n",
    "    \n",
    "    results1 = json.loads(page1.text)\n",
    "    results2 = json.loads(page2.text)\n",
    "\n",
    "    \n",
    "    #print(results)\n",
    "    hits1 = results1[\"searchInformation\"][\"totalResults\"]\n",
    "    hits1 = int(hits1)\n",
    "    hits2 = results2[\"searchInformation\"][\"totalResults\"]\n",
    "    hits2 = int(hits2)\n",
    "\n",
    "    \n",
    "    #print(hits)\n",
    "    hits = hits2 - hits1\n",
    "    hits_permon = (hits2 - hits1) +hits1\n",
    "    total_results.append(hits_permon)\n",
    "    diff.append(hits)\n",
    "    months.append(\"m\" + str(x))"
   ]
  },
  {
   "cell_type": "code",
   "execution_count": 8,
   "metadata": {},
   "outputs": [
    {
     "data": {
      "text/html": [
       "<div>\n",
       "<style scoped>\n",
       "    .dataframe tbody tr th:only-of-type {\n",
       "        vertical-align: middle;\n",
       "    }\n",
       "\n",
       "    .dataframe tbody tr th {\n",
       "        vertical-align: top;\n",
       "    }\n",
       "\n",
       "    .dataframe thead th {\n",
       "        text-align: right;\n",
       "    }\n",
       "</style>\n",
       "<table border=\"1\" class=\"dataframe\">\n",
       "  <thead>\n",
       "    <tr style=\"text-align: right;\">\n",
       "      <th></th>\n",
       "      <th>Months</th>\n",
       "      <th>Results</th>\n",
       "    </tr>\n",
       "  </thead>\n",
       "  <tbody>\n",
       "    <tr>\n",
       "      <th>0</th>\n",
       "      <td>m1</td>\n",
       "      <td>1680</td>\n",
       "    </tr>\n",
       "    <tr>\n",
       "      <th>1</th>\n",
       "      <td>m2</td>\n",
       "      <td>2520</td>\n",
       "    </tr>\n",
       "    <tr>\n",
       "      <th>2</th>\n",
       "      <td>m3</td>\n",
       "      <td>2540</td>\n",
       "    </tr>\n",
       "    <tr>\n",
       "      <th>3</th>\n",
       "      <td>m4</td>\n",
       "      <td>3020</td>\n",
       "    </tr>\n",
       "    <tr>\n",
       "      <th>4</th>\n",
       "      <td>m5</td>\n",
       "      <td>3490</td>\n",
       "    </tr>\n",
       "    <tr>\n",
       "      <th>5</th>\n",
       "      <td>m6</td>\n",
       "      <td>4030</td>\n",
       "    </tr>\n",
       "    <tr>\n",
       "      <th>6</th>\n",
       "      <td>m7</td>\n",
       "      <td>4260</td>\n",
       "    </tr>\n",
       "    <tr>\n",
       "      <th>7</th>\n",
       "      <td>m8</td>\n",
       "      <td>4810</td>\n",
       "    </tr>\n",
       "    <tr>\n",
       "      <th>8</th>\n",
       "      <td>m9</td>\n",
       "      <td>24000</td>\n",
       "    </tr>\n",
       "    <tr>\n",
       "      <th>9</th>\n",
       "      <td>m10</td>\n",
       "      <td>26900</td>\n",
       "    </tr>\n",
       "    <tr>\n",
       "      <th>10</th>\n",
       "      <td>m11</td>\n",
       "      <td>25200</td>\n",
       "    </tr>\n",
       "    <tr>\n",
       "      <th>11</th>\n",
       "      <td>m12</td>\n",
       "      <td>28300</td>\n",
       "    </tr>\n",
       "  </tbody>\n",
       "</table>\n",
       "</div>"
      ],
      "text/plain": [
       "   Months  Results\n",
       "0      m1     1680\n",
       "1      m2     2520\n",
       "2      m3     2540\n",
       "3      m4     3020\n",
       "4      m5     3490\n",
       "5      m6     4030\n",
       "6      m7     4260\n",
       "7      m8     4810\n",
       "8      m9    24000\n",
       "9     m10    26900\n",
       "10    m11    25200\n",
       "11    m12    28300"
      ]
     },
     "execution_count": 8,
     "metadata": {},
     "output_type": "execute_result"
    }
   ],
   "source": [
    "mon_df = pd.DataFrame({\n",
    "    \"Months\": months,\n",
    "    \"Results\": total_results\n",
    "    })\n",
    "mon_df"
   ]
  },
  {
   "cell_type": "code",
   "execution_count": 9,
   "metadata": {},
   "outputs": [
    {
     "data": {
      "text/plain": [
       "<function matplotlib.pyplot.show(*args, **kw)>"
      ]
     },
     "execution_count": 9,
     "metadata": {},
     "output_type": "execute_result"
    },
    {
     "data": {
      "image/png": "[encoded data removed]",
      "text/plain": [
       "<Figure size 432x288 with 1 Axes>"
      ]
     },
     "metadata": {
      "needs_background": "light"
     },
     "output_type": "display_data"
    }
   ],
   "source": [
    "plt.plot(months, total_results)\n",
    "plt.show"
   ]
  },
  {
   "cell_type": "code",
   "execution_count": null,
   "metadata": {},
   "outputs": [],
   "source": []
  }
 ],
 "metadata": {
  "kernelspec": {
   "display_name": "Python 3",
   "language": "python",
   "name": "python3"
  },
  "language_info": {
   "codemirror_mode": {
    "name": "ipython",
    "version": 3
   },
   "file_extension": ".py",
   "mimetype": "text/x-python",
   "name": "python",
   "nbconvert_exporter": "python",
   "pygments_lexer": "ipython3",
   "version": "3.7.1"
  }
 },
 "nbformat": 4,
 "nbformat_minor": 2
}
