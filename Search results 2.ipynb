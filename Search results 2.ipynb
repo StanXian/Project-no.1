{
 "cells": [
  {
   "cell_type": "code",
   "execution_count": 7,
   "metadata": {},
   "outputs": [],
   "source": [
    "import json\n",
    "import requests\n",
    "import pandas as pd\n",
    "from apikey import api_key"
   ]
  },
  {
   "cell_type": "code",
   "execution_count": 8,
   "metadata": {},
   "outputs": [],
   "source": [
    "cx = \"016959488968617841903:flfbk-adnwc\""
   ]
  },
  {
   "cell_type": "code",
   "execution_count": 9,
   "metadata": {},
   "outputs": [],
   "source": [
    "results_monthly = []"
   ]
  },
  {
   "cell_type": "code",
   "execution_count": 10,
   "metadata": {},
   "outputs": [
    {
     "data": {
      "text/plain": [
       "[]"
      ]
     },
     "execution_count": 10,
     "metadata": {},
     "output_type": "execute_result"
    }
   ],
   "source": [
    "for i in range(24, 1):\n",
    "    url = \"https://www.googleapis.com/customsearch/v1\"\n",
    "    parameters1 = {\"q\": \"kermit meme\",\n",
    "              \"cx\": cx,\n",
    "              \"key\": api_key,\n",
    "              \"dateRestrict=m\": i  ,\n",
    "              }\n",
    "    parameters2 = {\"q\": \"kermit meme\",\n",
    "              \"cx\": cx,\n",
    "              \"key\": api_key,\n",
    "              \"dateRestrict=m\": i-1  ,\n",
    "              }\n",
    "\n",
    "    page1 = requests.request(\"GET\", url, params=parameters1)\n",
    "    page2 = requests.request(\"GET\", url, params=parameters2)\n",
    "    results1 = json.loads(page1.text)\n",
    "    results2 = json.loads(page2.text)\n",
    "    tr1 = results1[\"searchInformation\"]['formattedTotalResults']\n",
    "    tr2 = results2[\"searchInformation\"]['formattedTotalResults']\n",
    "    results_monthly.append(tr1-tr2)\n",
    "    \n",
    "\n",
    "results_monthly"
   ]
  },
  {
   "cell_type": "code",
   "execution_count": null,
   "metadata": {},
   "outputs": [],
   "source": []
  }
 ],
 "metadata": {
  "kernelspec": {
   "display_name": "Python 3",
   "language": "python",
   "name": "python3"
  },
  "language_info": {
   "codemirror_mode": {
    "name": "ipython",
    "version": 3
   },
   "file_extension": ".py",
   "mimetype": "text/x-python",
   "name": "python",
   "nbconvert_exporter": "python",
   "pygments_lexer": "ipython3",
   "version": "3.7.1"
  }
 },
 "nbformat": 4,
 "nbformat_minor": 2
}
