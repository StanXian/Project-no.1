{
 "cells": [
  {
   "cell_type": "code",
   "execution_count": 2,
   "metadata": {},
   "outputs": [],
   "source": [
    "import matplotlib.pyplot as plt\n",
    "import numpy as np\n",
    "import pandas as pd\n"
   ]
  },
  {
   "cell_type": "code",
   "execution_count": 3,
   "metadata": {},
   "outputs": [],
   "source": [
    "df=pd.DataFrame({'x': range(1,11), 'y1': np.random.randn(10), 'y2': np.random.randn(10)+range(1,11), 'y3': np.random.randn(10)+range(11,21), 'y4': np.random.randn(10)+range(6,16), 'y5': np.random.randn(10)+range(4,14)+(0,0,0,0,0,0,0,-3,-8,-6), 'y6': np.random.randn(10)+range(2,12), 'y7': np.random.randn(10)+range(5,15), 'y8': np.random.randn(10)+range(4,14), 'y9': np.random.randn(10)+range(4,14), 'y10': np.random.randn(10)+range(2,12) })"
   ]
  },
  {
   "cell_type": "code",
   "execution_count": 4,
   "metadata": {},
   "outputs": [
    {
     "data": {
      "text/html": [
       "<div>\n",
       "<style scoped>\n",
       "    .dataframe tbody tr th:only-of-type {\n",
       "        vertical-align: middle;\n",
       "    }\n",
       "\n",
       "    .dataframe tbody tr th {\n",
       "        vertical-align: top;\n",
       "    }\n",
       "\n",
       "    .dataframe thead th {\n",
       "        text-align: right;\n",
       "    }\n",
       "</style>\n",
       "<table border=\"1\" class=\"dataframe\">\n",
       "  <thead>\n",
       "    <tr style=\"text-align: right;\">\n",
       "      <th></th>\n",
       "      <th>x</th>\n",
       "      <th>y1</th>\n",
       "      <th>y2</th>\n",
       "      <th>y3</th>\n",
       "      <th>y4</th>\n",
       "      <th>y5</th>\n",
       "      <th>y6</th>\n",
       "      <th>y7</th>\n",
       "      <th>y8</th>\n",
       "      <th>y9</th>\n",
       "      <th>y10</th>\n",
       "    </tr>\n",
       "  </thead>\n",
       "  <tbody>\n",
       "    <tr>\n",
       "      <th>0</th>\n",
       "      <td>1</td>\n",
       "      <td>0.344265</td>\n",
       "      <td>0.342786</td>\n",
       "      <td>13.413637</td>\n",
       "      <td>4.127066</td>\n",
       "      <td>4.161525</td>\n",
       "      <td>2.385807</td>\n",
       "      <td>6.471957</td>\n",
       "      <td>4.987240</td>\n",
       "      <td>3.177611</td>\n",
       "      <td>2.025615</td>\n",
       "    </tr>\n",
       "    <tr>\n",
       "      <th>1</th>\n",
       "      <td>2</td>\n",
       "      <td>0.953665</td>\n",
       "      <td>1.445750</td>\n",
       "      <td>10.661838</td>\n",
       "      <td>6.986326</td>\n",
       "      <td>6.027184</td>\n",
       "      <td>0.945932</td>\n",
       "      <td>4.736006</td>\n",
       "      <td>5.472980</td>\n",
       "      <td>5.568901</td>\n",
       "      <td>3.055226</td>\n",
       "    </tr>\n",
       "    <tr>\n",
       "      <th>2</th>\n",
       "      <td>3</td>\n",
       "      <td>-0.087843</td>\n",
       "      <td>1.822623</td>\n",
       "      <td>14.351607</td>\n",
       "      <td>7.021631</td>\n",
       "      <td>7.178374</td>\n",
       "      <td>3.827279</td>\n",
       "      <td>7.213182</td>\n",
       "      <td>5.661941</td>\n",
       "      <td>5.310236</td>\n",
       "      <td>3.695578</td>\n",
       "    </tr>\n",
       "    <tr>\n",
       "      <th>3</th>\n",
       "      <td>4</td>\n",
       "      <td>1.933976</td>\n",
       "      <td>5.752566</td>\n",
       "      <td>13.824210</td>\n",
       "      <td>8.678414</td>\n",
       "      <td>7.402038</td>\n",
       "      <td>4.926667</td>\n",
       "      <td>7.058737</td>\n",
       "      <td>7.038122</td>\n",
       "      <td>7.661731</td>\n",
       "      <td>4.628050</td>\n",
       "    </tr>\n",
       "    <tr>\n",
       "      <th>4</th>\n",
       "      <td>5</td>\n",
       "      <td>0.143516</td>\n",
       "      <td>4.884915</td>\n",
       "      <td>14.908078</td>\n",
       "      <td>10.059440</td>\n",
       "      <td>7.840472</td>\n",
       "      <td>5.870913</td>\n",
       "      <td>8.172640</td>\n",
       "      <td>6.798412</td>\n",
       "      <td>6.227874</td>\n",
       "      <td>6.594529</td>\n",
       "    </tr>\n",
       "  </tbody>\n",
       "</table>\n",
       "</div>"
      ],
      "text/plain": [
       "   x        y1        y2         y3         y4        y5        y6        y7  \\\n",
       "0  1  0.344265  0.342786  13.413637   4.127066  4.161525  2.385807  6.471957   \n",
       "1  2  0.953665  1.445750  10.661838   6.986326  6.027184  0.945932  4.736006   \n",
       "2  3 -0.087843  1.822623  14.351607   7.021631  7.178374  3.827279  7.213182   \n",
       "3  4  1.933976  5.752566  13.824210   8.678414  7.402038  4.926667  7.058737   \n",
       "4  5  0.143516  4.884915  14.908078  10.059440  7.840472  5.870913  8.172640   \n",
       "\n",
       "         y8        y9       y10  \n",
       "0  4.987240  3.177611  2.025615  \n",
       "1  5.472980  5.568901  3.055226  \n",
       "2  5.661941  5.310236  3.695578  \n",
       "3  7.038122  7.661731  4.628050  \n",
       "4  6.798412  6.227874  6.594529  "
      ]
     },
     "execution_count": 4,
     "metadata": {},
     "output_type": "execute_result"
    }
   ],
   "source": [
    "df.head()"
   ]
  },
  {
   "cell_type": "code",
   "execution_count": 7,
   "metadata": {},
   "outputs": [
    {
     "data": {
      "text/plain": [
       "Text(0, 0.5, 'Score')"
      ]
     },
     "execution_count": 7,
     "metadata": {},
     "output_type": "execute_result"
    },
    {
     "data": {
      "image/png": "[encoded data removed]",
      "text/plain": [
       "<Figure size 432x288 with 1 Axes>"
      ]
     },
     "metadata": {},
     "output_type": "display_data"
    }
   ],
   "source": [
    "# style\n",
    "plt.style.use('seaborn-darkgrid')\n",
    " \n",
    "# create a color palette\n",
    "palette = plt.get_cmap('Set1')\n",
    " \n",
    "# multiple line plot\n",
    "\n",
    "plt.plot(df['x'], df[column], marker='', color=palette(num), linewidth=1, alpha=0.9, label=column)\n",
    " \n",
    "# Add legend\n",
    "plt.legend(loc=2, ncol=2)\n",
    " \n",
    "# Add titles\n",
    "plt.title(\"A (bad) Spaghetti plot\", loc='left', fontsize=12, fontweight=0, color='orange')\n",
    "plt.xlabel(\"Time\")\n",
    "plt.ylabel(\"Score\")\n"
   ]
  },
  {
   "cell_type": "code",
   "execution_count": null,
   "metadata": {},
   "outputs": [],
   "source": []
  }
 ],
 "metadata": {
  "kernelspec": {
   "display_name": "Python 3",
   "language": "python",
   "name": "python3"
  },
  "language_info": {
   "codemirror_mode": {
    "name": "ipython",
    "version": 3
   },
   "file_extension": ".py",
   "mimetype": "text/x-python",
   "name": "python",
   "nbconvert_exporter": "python",
   "pygments_lexer": "ipython3",
   "version": "3.7.1"
  }
 },
 "nbformat": 4,
 "nbformat_minor": 2
}
