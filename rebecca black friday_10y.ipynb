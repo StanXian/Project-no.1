{
 "cells": [
  {
   "cell_type": "code",
   "execution_count": 1,
   "metadata": {},
   "outputs": [],
   "source": [
    "import json\n",
    "import requests\n",
    "import pandas as pd\n",
    "from k import api_key\n",
    "import matplotlib.pyplot as plt\n",
    "import csv\n",
    "import numpy as np"
   ]
  },
  {
   "cell_type": "code",
   "execution_count": 2,
   "metadata": {},
   "outputs": [
    {
     "name": "stdout",
     "output_type": "stream",
     "text": [
      "1\n",
      "2\n",
      "3\n",
      "4\n",
      "5\n",
      "6\n",
      "7\n",
      "8\n",
      "9\n",
      "10\n"
     ]
    }
   ],
   "source": [
    "cx = \"0004244157511163772131:swmjc3vgy_a\"\n",
    "url = \"https://www.googleapis.com/customsearch/v1?\"\n",
    "\n",
    "total_results = []\n",
    "years = []\n",
    "\n",
    "\n",
    "\n",
    "for x in range(1, 11, 1):\n",
    "    print(x)\n",
    "    timeperiod1 = 'y' + str(x)\n",
    "    parameters1 = {\"q\": \"rebecca black friday\",\n",
    "              \"cx\": cx,\n",
    "              \"key\": api_key,\n",
    "              \"dateRestrict\": timeperiod1\n",
    "              }\n",
    "    timeperiod2 = 'y' + str(x+1)\n",
    "    parameters2 = {\"q\": \"rebecca black friday\",\n",
    "              \"cx\": cx,\n",
    "              \"key\": api_key,\n",
    "              \"dateRestrict\": timeperiod2\n",
    "              }\n",
    "    \n",
    "    page1 = requests.request(\"GET\", url, params=parameters1)\n",
    "    page2 = requests.request(\"GET\", url, params=parameters2)\n",
    "\n",
    "    \n",
    "    results1 = json.loads(page1.text)\n",
    "    results2 = json.loads(page2.text)\n",
    "\n",
    "    \n",
    "    #print(results)\n",
    "    hits1 = results1[\"searchInformation\"][\"totalResults\"]\n",
    "    hits1 = int(hits1)\n",
    "    hits2 = results2[\"searchInformation\"][\"totalResults\"]\n",
    "    hits2 = int(hits2)\n",
    "\n",
    "    \n",
    "    #print(hits)\n",
    "    hits_permon = (hits2 - hits1) +hits1\n",
    "    total_results.append(hits_permon)\n",
    "    years.append(\"y\" + str(x))"
   ]
  },
  {
   "cell_type": "code",
   "execution_count": 3,
   "metadata": {},
   "outputs": [
    {
     "data": {
      "text/html": [
       "<div>\n",
       "<style scoped>\n",
       "    .dataframe tbody tr th:only-of-type {\n",
       "        vertical-align: middle;\n",
       "    }\n",
       "\n",
       "    .dataframe tbody tr th {\n",
       "        vertical-align: top;\n",
       "    }\n",
       "\n",
       "    .dataframe thead th {\n",
       "        text-align: right;\n",
       "    }\n",
       "</style>\n",
       "<table border=\"1\" class=\"dataframe\">\n",
       "  <thead>\n",
       "    <tr style=\"text-align: right;\">\n",
       "      <th></th>\n",
       "      <th>Years</th>\n",
       "      <th>Results</th>\n",
       "    </tr>\n",
       "  </thead>\n",
       "  <tbody>\n",
       "    <tr>\n",
       "      <th>0</th>\n",
       "      <td>y1</td>\n",
       "      <td>19000000</td>\n",
       "    </tr>\n",
       "    <tr>\n",
       "      <th>1</th>\n",
       "      <td>y2</td>\n",
       "      <td>25800000</td>\n",
       "    </tr>\n",
       "    <tr>\n",
       "      <th>2</th>\n",
       "      <td>y3</td>\n",
       "      <td>30400000</td>\n",
       "    </tr>\n",
       "    <tr>\n",
       "      <th>3</th>\n",
       "      <td>y4</td>\n",
       "      <td>35300000</td>\n",
       "    </tr>\n",
       "    <tr>\n",
       "      <th>4</th>\n",
       "      <td>y5</td>\n",
       "      <td>34600000</td>\n",
       "    </tr>\n",
       "    <tr>\n",
       "      <th>5</th>\n",
       "      <td>y6</td>\n",
       "      <td>38900000</td>\n",
       "    </tr>\n",
       "    <tr>\n",
       "      <th>6</th>\n",
       "      <td>y7</td>\n",
       "      <td>42900000</td>\n",
       "    </tr>\n",
       "    <tr>\n",
       "      <th>7</th>\n",
       "      <td>y8</td>\n",
       "      <td>43100000</td>\n",
       "    </tr>\n",
       "    <tr>\n",
       "      <th>8</th>\n",
       "      <td>y9</td>\n",
       "      <td>36400000</td>\n",
       "    </tr>\n",
       "    <tr>\n",
       "      <th>9</th>\n",
       "      <td>y10</td>\n",
       "      <td>45200000</td>\n",
       "    </tr>\n",
       "  </tbody>\n",
       "</table>\n",
       "</div>"
      ],
      "text/plain": [
       "  Years   Results\n",
       "0    y1  19000000\n",
       "1    y2  25800000\n",
       "2    y3  30400000\n",
       "3    y4  35300000\n",
       "4    y5  34600000\n",
       "5    y6  38900000\n",
       "6    y7  42900000\n",
       "7    y8  43100000\n",
       "8    y9  36400000\n",
       "9   y10  45200000"
      ]
     },
     "execution_count": 3,
     "metadata": {},
     "output_type": "execute_result"
    }
   ],
   "source": [
    "mon_df = pd.DataFrame({\n",
    "    \"Years\": years,\n",
    "    \"Results\": total_results\n",
    "    })\n",
    "mon_df"
   ]
  },
  {
   "cell_type": "code",
   "execution_count": 4,
   "metadata": {},
   "outputs": [
    {
     "data": {
      "text/plain": [
       "<function matplotlib.pyplot.show(*args, **kw)>"
      ]
     },
     "execution_count": 4,
     "metadata": {},
     "output_type": "execute_result"
    },
    {
     "data": {
      "image/png": "[encoded data removed]",
      "text/plain": [
       "<Figure size 432x288 with 1 Axes>"
      ]
     },
     "metadata": {
      "needs_background": "light"
     },
     "output_type": "display_data"
    }
   ],
   "source": [
    "plt.plot(years, total_results)\n",
    "plt.show"
   ]
  },
  {
   "cell_type": "code",
   "execution_count": 5,
   "metadata": {},
   "outputs": [],
   "source": [
    "mon_df.to_csv('rebeccablackfriday_10y_file.csv', index = None, header=True)"
   ]
  },
  {
   "cell_type": "code",
   "execution_count": null,
   "metadata": {},
   "outputs": [],
   "source": []
  }
 ],
 "metadata": {
  "kernelspec": {
   "display_name": "Python 3",
   "language": "python",
   "name": "python3"
  },
  "language_info": {
   "codemirror_mode": {
    "name": "ipython",
    "version": 3
   },
   "file_extension": ".py",
   "mimetype": "text/x-python",
   "name": "python",
   "nbconvert_exporter": "python",
   "pygments_lexer": "ipython3",
   "version": "3.7.1"
  }
 },
 "nbformat": 4,
 "nbformat_minor": 2
}
