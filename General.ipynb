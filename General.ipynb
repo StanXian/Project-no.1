{
 "cells": [
  {
   "cell_type": "code",
   "execution_count": 92,
   "metadata": {},
   "outputs": [],
   "source": [
    "import json\n",
    "import requests\n",
    "import pandas as pd\n",
    "from apikey import api_key"
   ]
  },
  {
   "cell_type": "code",
   "execution_count": 93,
   "metadata": {},
   "outputs": [],
   "source": [
    "cx = \"016959488968617841903:flfbk-adnwc\""
   ]
  },
  {
   "cell_type": "code",
   "execution_count": 171,
   "metadata": {},
   "outputs": [],
   "source": [
    "url = \"https://www.googleapis.com/customsearch/v1\"\n",
    "parameters = {\"q\": \"kermmit memes\",\n",
    "              \"cx\": cx,\n",
    "              \"key\": api_key,\n",
    "              \"dateRestrict\":\"m1 \" ,\n",
    "              }"
   ]
  },
  {
   "cell_type": "code",
   "execution_count": 172,
   "metadata": {},
   "outputs": [],
   "source": [
    "page = requests.request(\"GET\", url, params=parameters)"
   ]
  },
  {
   "cell_type": "code",
   "execution_count": 173,
   "metadata": {},
   "outputs": [
    {
     "data": {
      "text/plain": [
       "{'error': {'errors': [{'domain': 'usageLimits',\n",
       "    'reason': 'dailyLimitExceeded',\n",
       "    'message': 'This API requires billing to be enabled on the project. Visit https://console.developers.google.com/billing?project=911746089888 to enable billing.',\n",
       "    'extendedHelp': 'https://console.developers.google.com/billing?project=911746089888'}],\n",
       "  'code': 403,\n",
       "  'message': 'This API requires billing to be enabled on the project. Visit https://console.developers.google.com/billing?project=911746089888 to enable billing.'}}"
      ]
     },
     "execution_count": 173,
     "metadata": {},
     "output_type": "execute_result"
    }
   ],
   "source": [
    "results = json.loads(page.text)\n",
    "results"
   ]
  },
  {
   "cell_type": "code",
   "execution_count": 166,
   "metadata": {},
   "outputs": [
    {
     "data": {
      "text/plain": [
       "dict_keys(['kind', 'url', 'queries', 'context', 'searchInformation', 'items'])"
      ]
     },
     "execution_count": 166,
     "metadata": {},
     "output_type": "execute_result"
    }
   ],
   "source": [
    "results.keys()"
   ]
  },
  {
   "cell_type": "code",
   "execution_count": 167,
   "metadata": {},
   "outputs": [
    {
     "data": {
      "text/plain": [
       "{'searchTime': 0.242128,\n",
       " 'formattedSearchTime': '0.24',\n",
       " 'totalResults': '43500',\n",
       " 'formattedTotalResults': '43,500'}"
      ]
     },
     "execution_count": 167,
     "metadata": {},
     "output_type": "execute_result"
    }
   ],
   "source": [
    "results[\"searchInformation\"]"
   ]
  },
  {
   "cell_type": "code",
   "execution_count": 162,
   "metadata": {},
   "outputs": [
    {
     "data": {
      "text/html": [
       "<div>\n",
       "<style scoped>\n",
       "    .dataframe tbody tr th:only-of-type {\n",
       "        vertical-align: middle;\n",
       "    }\n",
       "\n",
       "    .dataframe tbody tr th {\n",
       "        vertical-align: top;\n",
       "    }\n",
       "\n",
       "    .dataframe thead th {\n",
       "        text-align: right;\n",
       "    }\n",
       "</style>\n",
       "<table border=\"1\" class=\"dataframe\">\n",
       "  <thead>\n",
       "    <tr style=\"text-align: right;\">\n",
       "      <th></th>\n",
       "      <th>link</th>\n",
       "      <th>title</th>\n",
       "      <th>snippet</th>\n",
       "    </tr>\n",
       "  </thead>\n",
       "  <tbody>\n",
       "    <tr>\n",
       "      <th>0</th>\n",
       "      <td>https://ruinmyweek.com/memes/kermit-meme/</td>\n",
       "      <td>The Best Of The 'That's None Of My Business' K...</td>\n",
       "      <td>One of the most popular memes to take the Inte...</td>\n",
       "    </tr>\n",
       "    <tr>\n",
       "      <th>1</th>\n",
       "      <td>https://www.amazon.com/Balanced-Co-Evil-Kermit...</td>\n",
       "      <td>Amazon.com: Balanced Co. Evil Kermit Meme Enam...</td>\n",
       "      <td>Buy Balanced Co. Evil Kermit Meme Enamel Pin: ...</td>\n",
       "    </tr>\n",
       "    <tr>\n",
       "      <th>2</th>\n",
       "      <td>https://www.youtube.com/watch?v=9tRUxkSWd58</td>\n",
       "      <td>The ULTIMATE Kermit the Frog Meme Compilation ...</td>\n",
       "      <td>The Ultimate Kermit the Frog Meme Compilation ...</td>\n",
       "    </tr>\n",
       "    <tr>\n",
       "      <th>3</th>\n",
       "      <td>https://www.indy100.com/article/donald-trump-j...</td>\n",
       "      <td>Donald Trump Jr owned himself again after shar...</td>\n",
       "      <td>... a national emergency on border security in...</td>\n",
       "    </tr>\n",
       "    <tr>\n",
       "      <th>4</th>\n",
       "      <td>https://imgflip.com/memegenerator/70042986/Sad...</td>\n",
       "      <td>Sad Kermit Meme Generator - Imgflip</td>\n",
       "      <td>Insanely fast, mobile-friendly meme generator....</td>\n",
       "    </tr>\n",
       "    <tr>\n",
       "      <th>5</th>\n",
       "      <td>https://www.ncaa.com/news/basketball-men/artic...</td>\n",
       "      <td>Temple basketball's must-see warm-up shirts pa...</td>\n",
       "      <td>What do the Bad News Brian, Crying Jordan, Con...</td>\n",
       "    </tr>\n",
       "    <tr>\n",
       "      <th>6</th>\n",
       "      <td>https://imgflip.com/memegenerator/85148081/Evi...</td>\n",
       "      <td>Evil Kermit Meme Meme Generator - Imgflip</td>\n",
       "      <td>Insanely fast, mobile-friendly meme generator....</td>\n",
       "    </tr>\n",
       "    <tr>\n",
       "      <th>7</th>\n",
       "      <td>https://www.reddit.com/r/Kermit/</td>\n",
       "      <td>Kermit the Frog</td>\n",
       "      <td>The Kermit community on Reddit. Reddit gives y...</td>\n",
       "    </tr>\n",
       "    <tr>\n",
       "      <th>8</th>\n",
       "      <td>https://imgflip.com/memegenerator/16422546/KERMIT</td>\n",
       "      <td>KERMIT Meme Generator - Imgflip</td>\n",
       "      <td>Insanely fast, mobile-friendly meme generator....</td>\n",
       "    </tr>\n",
       "    <tr>\n",
       "      <th>9</th>\n",
       "      <td>https://www.teepublic.com/t-shirts/kermit-meme</td>\n",
       "      <td>Kermit Meme T-Shirts | TeePublic</td>\n",
       "      <td>Be Unique. Shop kermit meme t-shirts created b...</td>\n",
       "    </tr>\n",
       "  </tbody>\n",
       "</table>\n",
       "</div>"
      ],
      "text/plain": [
       "                                                link  \\\n",
       "0          https://ruinmyweek.com/memes/kermit-meme/   \n",
       "1  https://www.amazon.com/Balanced-Co-Evil-Kermit...   \n",
       "2        https://www.youtube.com/watch?v=9tRUxkSWd58   \n",
       "3  https://www.indy100.com/article/donald-trump-j...   \n",
       "4  https://imgflip.com/memegenerator/70042986/Sad...   \n",
       "5  https://www.ncaa.com/news/basketball-men/artic...   \n",
       "6  https://imgflip.com/memegenerator/85148081/Evi...   \n",
       "7                   https://www.reddit.com/r/Kermit/   \n",
       "8  https://imgflip.com/memegenerator/16422546/KERMIT   \n",
       "9     https://www.teepublic.com/t-shirts/kermit-meme   \n",
       "\n",
       "                                               title  \\\n",
       "0  The Best Of The 'That's None Of My Business' K...   \n",
       "1  Amazon.com: Balanced Co. Evil Kermit Meme Enam...   \n",
       "2  The ULTIMATE Kermit the Frog Meme Compilation ...   \n",
       "3  Donald Trump Jr owned himself again after shar...   \n",
       "4                Sad Kermit Meme Generator - Imgflip   \n",
       "5  Temple basketball's must-see warm-up shirts pa...   \n",
       "6          Evil Kermit Meme Meme Generator - Imgflip   \n",
       "7                                    Kermit the Frog   \n",
       "8                    KERMIT Meme Generator - Imgflip   \n",
       "9                   Kermit Meme T-Shirts | TeePublic   \n",
       "\n",
       "                                             snippet  \n",
       "0  One of the most popular memes to take the Inte...  \n",
       "1  Buy Balanced Co. Evil Kermit Meme Enamel Pin: ...  \n",
       "2  The Ultimate Kermit the Frog Meme Compilation ...  \n",
       "3  ... a national emergency on border security in...  \n",
       "4  Insanely fast, mobile-friendly meme generator....  \n",
       "5  What do the Bad News Brian, Crying Jordan, Con...  \n",
       "6  Insanely fast, mobile-friendly meme generator....  \n",
       "7  The Kermit community on Reddit. Reddit gives y...  \n",
       "8  Insanely fast, mobile-friendly meme generator....  \n",
       "9  Be Unique. Shop kermit meme t-shirts created b...  "
      ]
     },
     "execution_count": 162,
     "metadata": {},
     "output_type": "execute_result"
    }
   ],
   "source": [
    "def process_search(results):\n",
    "    link_list = [item[\"link\"] for item in results[\"items\"]]\n",
    "    df = pd.DataFrame(link_list, columns=[\"link\"])\n",
    "    df[\"title\"] = [item[\"title\"] for item in results[\"items\"]]\n",
    "    df[\"snippet\"] = [item[\"snippet\"] for item in results[\"items\"]]\n",
    "    return df\n",
    "df = process_search(results)\n",
    "df"
   ]
  },
  {
   "cell_type": "code",
   "execution_count": null,
   "metadata": {},
   "outputs": [],
   "source": []
  },
  {
   "cell_type": "code",
   "execution_count": null,
   "metadata": {},
   "outputs": [],
   "source": []
  }
 ],
 "metadata": {
  "kernelspec": {
   "display_name": "Python 3",
   "language": "python",
   "name": "python3"
  },
  "language_info": {
   "codemirror_mode": {
    "name": "ipython",
    "version": 3
   },
   "file_extension": ".py",
   "mimetype": "text/x-python",
   "name": "python",
   "nbconvert_exporter": "python",
   "pygments_lexer": "ipython3",
   "version": "3.7.1"
  }
 },
 "nbformat": 4,
 "nbformat_minor": 2
}
